{
 "cells": [
  {
   "cell_type": "code",
   "execution_count": 2,
   "metadata": {
    "id": "2gelU0RVdJ1k"
   },
   "outputs": [],
   "source": [
    "import string\n",
    "import random\n",
    "from random import randint\n",
    "import cv2\n",
    "import numpy as np\n",
    "import os\n",
    "from PIL import Image, ImageFont, ImageDraw"
   ]
  },
  {
   "cell_type": "code",
   "execution_count": 3,
   "metadata": {
    "id": "8bglfP7MdQlt"
   },
   "outputs": [],
   "source": [
    "# Run this command only once:\n",
    "\n",
    "# makes the output folder /content/pictures/\n",
    "# !mkdir pictures"
   ]
  },
  {
   "cell_type": "code",
   "execution_count": 4,
   "metadata": {
    "colab": {
     "base_uri": "https://localhost:8080/"
    },
    "id": "zKlNcXZJdmjO",
    "outputId": "144e8ce9-333c-4f9d-b29b-ef083b87a7b4"
   },
   "outputs": [],
   "source": [
    "# Run this command only once\n",
    "\n",
    "# Downloads the license plate template to /content/blank_plate.png\n",
    "# !gdown 1Q_FsX2z6DaDCLM91qGZzwvctaW9bN60v"
   ]
  },
  {
   "cell_type": "code",
   "execution_count": 5,
   "metadata": {
    "id": "4kh3ZKFb1U1F"
   },
   "outputs": [],
   "source": [
    "# path = \"/content/\"\n",
    "\n",
    "# NUMBER_OF_PLATES = 200\n",
    "\n",
    "# # Generate NUMBER_OF_PLATES with random values of the form CC NN (C: character\n",
    "# # N: number)\n",
    "\n",
    "# for i in range(0, NUMBER_OF_PLATES):\n",
    "\n",
    "#     # Pick two random letters\n",
    "#     plate_alpha = \"\"\n",
    "#     for _ in range(0, 2):\n",
    "#         plate_alpha += (random.choice(string.ascii_uppercase))\n",
    "\n",
    "#     # Pick two random numbers\n",
    "#     num = randint(0, 99)\n",
    "#     plate_num = \"{:02d}\".format(num)\n",
    "\n",
    "#     # Write plate to image\n",
    "#     blank_plate = cv2.imread(path+'blank_plate.png')\n",
    "\n",
    "#     # Convert into a PIL image (this is so we can use the monospaced fonts)\n",
    "#     blank_plate_pil = Image.fromarray(blank_plate)\n",
    "\n",
    "#     # Get a drawing context\n",
    "#     draw = ImageDraw.Draw(blank_plate_pil)\n",
    "#     monospace = ImageFont.truetype(font=\"/usr/share/fonts/truetype/liberation/LiberationMono-Regular.ttf\",\n",
    "#                                    size=165)\n",
    "#     draw.text(xy=(48, 75),\n",
    "#               text=plate_alpha + \" \" + plate_num,\n",
    "#               fill=(255,0,0), font=monospace)\n",
    "\n",
    "#     # Convert back to OpenCV image and save\n",
    "#     blank_plate = np.array(blank_plate_pil)\n",
    "\n",
    "#     # Write license plate to file\n",
    "#     cv2.imwrite(os.path.join(path + \"pictures/\",\n",
    "#                              \"plate_{}{}.png\".format(plate_alpha, plate_num)),\n",
    "#                              blank_plate)"
   ]
  },
  {
   "cell_type": "code",
   "execution_count": 6,
   "metadata": {
    "id": "AJD9igZbfoXS"
   },
   "outputs": [],
   "source": [
    "# import os\n",
    "# import cv2\n",
    "# import random\n",
    "# import string\n",
    "# import numpy as np\n",
    "# from PIL import Image, ImageDraw, ImageFont\n",
    "# from tensorflow.keras.preprocessing.image import ImageDataGenerator\n",
    "\n",
    "# # Define paths\n",
    "# path = \"/content/\"\n",
    "# pictures_path = os.path.join(path, \"pictures/\")\n",
    "# os.makedirs(pictures_path, exist_ok=True)\n",
    "\n",
    "# NUMBER_OF_PLATES = 200\n",
    "\n",
    "# # Initialize the data generator with augmentations\n",
    "# datagen = ImageDataGenerator(\n",
    "#     rotation_range=8,            # Random rotation within 5 degrees\n",
    "#     zoom_range=0.05,             # Small random zoom (1%)\n",
    "#     brightness_range=[0.3, 2.0], # Adjust brightness between 50% and 200%\n",
    "#     shear_range=2,               # Shear by 2 degrees\n",
    "#       width_shift_range=0.05,       # Shift width by 10%\n",
    "#     height_shift_range=0.05       # Shift height by 10%\n",
    "# )\n",
    "\n",
    "# # Generate NUMBER_OF_PLATES with random values\n",
    "# for i in range(0, NUMBER_OF_PLATES):\n",
    "#     # Pick two random letters\n",
    "#     plate_alpha = \"\"\n",
    "#     for _ in range(0, 2):\n",
    "#         plate_alpha += random.choice(string.ascii_uppercase)\n",
    "\n",
    "#     # Pick two random numbers\n",
    "#     num = random.randint(0, 99)\n",
    "#     plate_num = \"{:02d}\".format(num)\n",
    "\n",
    "#     # Write plate to image\n",
    "#     blank_plate = cv2.imread(path + 'blank_plate.png')\n",
    "\n",
    "#     # Convert into a PIL image (this is so we can use the monospaced fonts)\n",
    "#     blank_plate_pil = Image.fromarray(blank_plate)\n",
    "\n",
    "#     # Get a drawing context\n",
    "#     draw = ImageDraw.Draw(blank_plate_pil)\n",
    "#     monospace = ImageFont.truetype(\n",
    "#         font=\"/usr/share/fonts/truetype/liberation/LiberationMono-Regular.ttf\",\n",
    "#         size=165\n",
    "#     )\n",
    "#     draw.text(\n",
    "#         xy=(48, 75),\n",
    "#         text=plate_alpha + \" \" + plate_num,\n",
    "#         fill=(255, 0, 0),  # Red text color\n",
    "#         font=monospace\n",
    "#     )\n",
    "\n",
    "#     # Convert back to OpenCV image\n",
    "#     blank_plate = np.array(blank_plate_pil)\n",
    "\n",
    "#     # Expand dimensions to match the generator's input format (batch size, height, width, channels)\n",
    "#     blank_plate = np.expand_dims(blank_plate, axis=0)\n",
    "\n",
    "#     # Apply augmentations using the generator\n",
    "#     augmented_iter = datagen.flow(blank_plate, batch_size=1)\n",
    "\n",
    "#     # Get the augmented image\n",
    "#     value = next(augmented_iter)  # Get the first (and only) batch\n",
    "#     augmented_image = value[0].astype('uint8')  # Convert back to uint8\n",
    "\n",
    "#     # Save the augmented plate image\n",
    "#     cv2.imwrite(os.path.join(\n",
    "#         pictures_path,\n",
    "#         f\"plate_{plate_alpha}{plate_num}.png\"\n",
    "#     ), augmented_image)\n"
   ]
  },
  {
   "cell_type": "code",
   "execution_count": 7,
   "metadata": {
    "id": "VK76Pa6TomeF"
   },
   "outputs": [
    {
     "name": "stderr",
     "output_type": "stream",
     "text": [
      "2024-12-03 13:12:27.513595: I tensorflow/tsl/cuda/cudart_stub.cc:28] Could not find cuda drivers on your machine, GPU will not be used.\n",
      "2024-12-03 13:12:27.596154: I tensorflow/tsl/cuda/cudart_stub.cc:28] Could not find cuda drivers on your machine, GPU will not be used.\n",
      "2024-12-03 13:12:27.597232: I tensorflow/core/platform/cpu_feature_guard.cc:182] This TensorFlow binary is optimized to use available CPU instructions in performance-critical operations.\n",
      "To enable the following instructions: AVX2 FMA, in other operations, rebuild TensorFlow with the appropriate compiler flags.\n",
      "2024-12-03 13:12:29.519886: W tensorflow/compiler/tf2tensorrt/utils/py_utils.cc:38] TF-TRT Warning: Could not find TensorRT\n"
     ]
    }
   ],
   "source": [
    "import os\n",
    "import cv2\n",
    "import random\n",
    "import string\n",
    "import numpy as np\n",
    "from PIL import Image, ImageDraw, ImageFont\n",
    "from tensorflow.keras.preprocessing.image import ImageDataGenerator\n",
    "\n",
    "# Define paths\n",
    "# path = \"/content/\"\n",
    "pictures_path = os.path.join(\"/home/fizzer/ros_ws/src/pink_chicken/reading_CNN/pictures\")\n",
    "os.makedirs(pictures_path, exist_ok=True)\n",
    "\n",
    "NUMBER_OF_PLATES = 1\n",
    "# Initialize the data generator with augmentations\n",
    "datagen = ImageDataGenerator(\n",
    "    rotation_range=8,            # Random rotation within 8 degrees\n",
    "    zoom_range=0.05,             # Small random zoom (5%)\n",
    "    brightness_range=[0.8, 2.0], # Adjust brightness between 30% and 200%\n",
    "    shear_range=2,               # Shear by 2 degrees\n",
    "    width_shift_range=0.05,      # Shift width by 5%\n",
    "    height_shift_range=0.05      # Shift height by 5%\n",
    ")\n",
    "\n",
    "def blue_mask(image):\n",
    "    # Convert the image from BGR to HSV color space\n",
    "    hsv_image = cv2.cvtColor(image, cv2.COLOR_BGR2HSV)\n",
    "\n",
    "    # Define the range for blue in HSV\n",
    "    lower_blue = np.array([100, 120, 70])  # Lower range for blue\n",
    "    upper_blue = np.array([140, 255, 255])  # Upper range for blue\n",
    "\n",
    "    # Create a binary mask where blue pixels are 1 and others are 0\n",
    "    blue_mask = cv2.inRange(hsv_image, lower_blue, upper_blue)\n",
    "\n",
    "    return blue_mask\n",
    "# Function to add Gaussian noise\n",
    "def add_gaussian_noise(image, mean=0, std=25):\n",
    "    gauss = np.random.normal(mean, std, image.shape)  # Generate Gaussian noise\n",
    "    noisy_image = image + gauss  # Add noise\n",
    "    noisy_image = np.clip(noisy_image, 0, 255).astype('uint8')  # Clip to valid range\n",
    "    return noisy_image\n",
    "\n",
    "# Function to add Salt-and-Pepper noise\n",
    "def add_salt_and_pepper_noise(image, salt_prob=0.02, pepper_prob=0.02):\n",
    "    noisy_image = image.copy()\n",
    "    total_pixels = image.size\n",
    "\n",
    "    # Add salt (white pixels)\n",
    "    num_salt = int(salt_prob * total_pixels)\n",
    "    coords = [np.random.randint(0, i - 1, num_salt) for i in image.shape[:2]]\n",
    "    noisy_image[coords[0], coords[1]] = 255\n",
    "\n",
    "    # Add pepper (black pixels)\n",
    "    num_pepper = int(pepper_prob * total_pixels)\n",
    "    coords = [np.random.randint(0, i - 1, num_pepper) for i in image.shape[:2]]\n",
    "    noisy_image[coords[0], coords[1]] = 0\n",
    "\n",
    "    return noisy_image\n",
    "\n",
    "# Function to add Gaussian blur\n",
    "def add_gaussian_blur(image, kernel_size=(10, 50)):\n",
    "    \"\"\"\n",
    "    Applies Gaussian blur to the image.\n",
    "    Args:\n",
    "        image: Input image (NumPy array).\n",
    "        kernel_size: Tuple representing the size of the Gaussian kernel.\n",
    "    Returns:\n",
    "        Blurred image (NumPy array).\n",
    "    \"\"\"\n",
    "    blurred_image = cv2.GaussianBlur(image, kernel_size, 0)\n",
    "    return blurred_image\n",
    "\n",
    "# Generate NUMBER_OF_PLATES with random values\n",
    "for i in range(0, NUMBER_OF_PLATES):\n",
    "    # Pick two random letters\n",
    "    plate_alpha = \"\"\n",
    "    for _ in range(0, 2):\n",
    "        plate_alpha += random.choice(string.ascii_uppercase)\n",
    "\n",
    "    # Pick two random numbers\n",
    "    num = random.randint(0, 99)\n",
    "    plate_num = \"{:02d}\".format(num)\n",
    "\n",
    "    # Write plate to image\n",
    "    blank_plate = cv2.imread('/home/fizzer/ros_ws/src/pink_chicken/reading_CNN/blank_plate.png')\n",
    "\n",
    "    # Convert into a PIL image (this is so we can use the monospaced fonts)\n",
    "    blank_plate_pil = Image.fromarray(blank_plate)\n",
    "\n",
    "    # Get a drawing context\n",
    "    draw = ImageDraw.Draw(blank_plate_pil)\n",
    "    monospace = ImageFont.truetype(\n",
    "        font=\"/usr/share/fonts/truetype/liberation/LiberationMono-Regular.ttf\",\n",
    "        size=165\n",
    "    )\n",
    "    draw.text(\n",
    "        xy=(48, 75),\n",
    "        text=plate_alpha + \" \" + plate_num,\n",
    "        fill=(255, 0, 0),  # Red text color\n",
    "        font=monospace\n",
    "    )\n",
    "\n",
    "    # Convert back to OpenCV image\n",
    "    blank_plate = np.array(blank_plate_pil)\n",
    "\n",
    "    # Expand dimensions to match the generator's input format (batch size, height, width, channels)\n",
    "    blank_plate = np.expand_dims(blank_plate, axis=0)\n",
    "\n",
    "    # Apply augmentations using the generator\n",
    "    augmented_iter = datagen.flow(blank_plate, batch_size=1)\n",
    "\n",
    "    # Get the augmented image\n",
    "    value = next(augmented_iter)  # Get the first (and only) batch\n",
    "    augmented_image = value[0].astype('uint8')  # Convert back to uint8\n",
    "\n",
    "    augmented_image = add_gaussian_noise(augmented_image)\n",
    "\n",
    "    augmented_image = add_salt_and_pepper_noise(augmented_image)\n",
    "\n",
    "    augmented_image = add_gaussian_blur(augmented_image, kernel_size=(5, 5))\n",
    "\n",
    "    augmented_image = blue_mask(augmented_image)\n",
    "\n",
    "\n",
    "    # Save the augmented plate image with noise or blur\n",
    "    cv2.imwrite(os.path.join(\n",
    "        pictures_path,\n",
    "        f\"plate_{plate_alpha}{plate_num}.png\"\n",
    "    ), augmented_image)\n"
   ]
  },
  {
   "cell_type": "code",
   "execution_count": 8,
   "metadata": {
    "colab": {
     "base_uri": "https://localhost:8080/"
    },
    "id": "a3JG2UDDVXhh",
    "outputId": "55c8d300-3672-4d0f-b6aa-924c81a6bd39"
   },
   "outputs": [
    {
     "name": "stdout",
     "output_type": "stream",
     "text": [
      "Number of files in the directory: 3\n"
     ]
    }
   ],
   "source": [
    "import os\n",
    "\n",
    "# Specify the directory you want to count the files in\n",
    "directory = '/home/fizzer/ros_ws/src/pink_chicken/reading_CNN/pictures/'\n",
    "\n",
    "# List all files and directories in the specified directory\n",
    "all_files = os.listdir(directory)\n",
    "\n",
    "# Filter only files (ignoring directories)\n",
    "file_count = len([f for f in all_files if os.path.isfile(os.path.join(directory, f))])\n",
    "\n",
    "print(f\"Number of files in the directory: {file_count}\")"
   ]
  },
  {
   "cell_type": "code",
   "execution_count": 9,
   "metadata": {
    "id": "W-GwG17dd-uI"
   },
   "outputs": [],
   "source": [
    "\n",
    "\n",
    "from tensorflow.keras.preprocessing.image import ImageDataGenerator\n",
    "from matplotlib import pyplot as plt\n",
    "from PIL import Image\n",
    "import numpy as np"
   ]
  },
  {
   "cell_type": "markdown",
   "metadata": {
    "id": "hBvB2_Yu2202"
   },
   "source": [
    "This is the algorithm that we use to create cropped images of each letter"
   ]
  },
  {
   "cell_type": "code",
   "execution_count": 10,
   "metadata": {
    "colab": {
     "base_uri": "https://localhost:8080/",
     "height": 1000
    },
    "id": "V8h7XPlrfL_A",
    "outputId": "c0dbb5c0-a44a-4232-a882-3667913030ee"
   },
   "outputs": [
    {
     "name": "stdout",
     "output_type": "stream",
     "text": [
      "Image shape: (298, 600, 3)\n"
     ]
    }
   ],
   "source": [
    "# Read the plate image\n",
    "plate = cv2.imread('/home/fizzer/ros_ws/src/pink_chicken/reading_CNN/pictures/plate_IO79.png')\n",
    "\n",
    "print(f\"Image shape: {plate.shape}\")\n",
    "\n",
    "if plate is None:\n",
    "    print(\"Error: Image not found. Check the file path.\")\n",
    "\n",
    "\n",
    "# Display the original plate image\n",
    "cv2.imshow(\"original\",plate)\n",
    "\n",
    "# Make a copy of the plate image\n",
    "plate_copy = plate.copy()\n",
    "\n",
    "# Define rectangle dimensions\n",
    "rect_width = 100  # Width of each rectangle\n",
    "rect_height = 150  # Height of each rectangle\n",
    "\n",
    "# Define the starting position for the first character and middle width (gap between some characters)\n",
    "left_start = (45, 85)  # Starting point\n",
    "middle_width = 97  # Gap between certain characters\n",
    "\n",
    "# Define character bounding boxes (I hard-coded this, it is painful)\n",
    "char1 = (left_start, (left_start[0] + rect_width, left_start[1] + rect_height))\n",
    "char2 = ((char1[1][0], left_start[1]), (char1[1][0] + rect_width, left_start[1] + rect_height))\n",
    "char3 = ((char2[1][0] + middle_width, left_start[1]), (char2[1][0] + rect_width + middle_width, left_start[1] + rect_height))\n",
    "char4 = ((char3[1][0], left_start[1]), (char3[1][0] + rect_width, left_start[1] + rect_height))\n",
    "\n",
    "# Collect the character rectangles in a list\n",
    "rectangles = [char1, char2, char3, char4]\n",
    "\n",
    "# Draw the rectangles on the copied image\n",
    "for (top_left, bottom_right) in rectangles:\n",
    "    cv2.rectangle(plate_copy, top_left, bottom_right, (0, 255, 0), 1)  # Green rectangles, thickness=1\n",
    "\n",
    "# Display the modified image with rectangles\n",
    "cv2.imshow(\"rectangles\",plate_copy)\n",
    "\n",
    "# Initiate array to store images\n",
    "cropped_plate = []\n",
    "\n",
    "for i, (top_left, bottom_right) in enumerate(rectangles):\n",
    "    # Crop each rectangle\n",
    "    # top_left[1]:bottom_right[1] is range of rows (height)\n",
    "    # top_left[0]:bottom_right[0] is range of column (width)\n",
    "    cropped_image = plate[top_left[1]:bottom_right[1], top_left[0]:bottom_right[0]]\n",
    "    cropped_plate.append(cropped_image)\n",
    "\n",
    "    # Save each cropped image\n",
    "    cv2.imwrite(f'cropped_char_{i+1}.png', cropped_image)\n",
    "\n",
    "    # Optionally display the cropped image\n",
    "    cv2.imshow(\"cropped\",cropped_image)\n",
    "\n",
    "\n",
    "\n"
   ]
  },
  {
   "cell_type": "markdown",
   "metadata": {
    "id": "EpJ7iXJX58to"
   },
   "source": [
    "We create functions for One-hot Encoding, Cropping license Plate, and Processing the Images"
   ]
  },
  {
   "cell_type": "code",
   "execution_count": 11,
   "metadata": {
    "id": "rWqRuqP554E6"
   },
   "outputs": [],
   "source": [
    "\n",
    "# Define character set for one-hot encoding (0-9 and A-Z)\n",
    "characters = '0123456789ABCDEFGHIJKLMNOPQRSTUVWXYZ'\n",
    "\n",
    "# Match the character to its location in string characters\n",
    "char_to_onehot = {char: i for i, char in enumerate(characters)}\n",
    "\n",
    "\n",
    "\"\"\"\n",
    "One-hot Encoding\n",
    "- We create a 36 letter vector\n",
    "- Match each character to a vector\n",
    "\"\"\"\n",
    "# Encode a specific character to a vector\n",
    "def one_hot_encode(char):\n",
    "    one_hot = np.zeros(36)  # 36-dimensional vector\n",
    "    one_hot[char_to_onehot[char]] = 1  # Set the correct index to 1\n",
    "    return one_hot\n",
    "\n",
    "\"\"\"\n",
    "Crop License Plate\n",
    "- Use trial-and-error to find the correct bounds for each character\n",
    "- Crop each rectangle and\n",
    "\"\"\"\n",
    "# Crop the license plate by each letter into 4 equal images\n",
    "def crop_license_plate(image, char_width=100, char_height=150, left_start=(45, 85), middle_width=97):\n",
    "\n",
    "    # Define the corners for each character region\n",
    "    char1 = (left_start, (left_start[0] + char_width, left_start[1] + char_height))\n",
    "    char2 = ((char1[1][0], left_start[1]), (char1[1][0] + char_width, left_start[1] + char_height))\n",
    "    char3 = ((char2[1][0] + middle_width, left_start[1]), (char2[1][0] + char_width + middle_width, left_start[1] + char_height))\n",
    "    char4 = ((char3[1][0], left_start[1]), (char3[1][0] + char_width, left_start[1] + char_height))\n",
    "\n",
    "    # Draw 4 rectangles\n",
    "    rectangles = [char1, char2, char3, char4]\n",
    "\n",
    "    # Initiate array to store the cropped images\n",
    "    cropped_images = []\n",
    "\n",
    "    # Crop the 4 rectangles\n",
    "    for top_left, bottom_right in rectangles:\n",
    "        cropped_image = image[top_left[1]:bottom_right[1], top_left[0]:bottom_right[0]]\n",
    "        cropped_image_resized = cv2.resize(cropped_image, (char_width, char_height))\n",
    "        # Save into array\n",
    "        cropped_images.append(cropped_image_resized)\n",
    "\n",
    "    return cropped_images\n",
    "\n",
    "\"\"\"\n",
    "Process the Images\n",
    "- We iterate through each image in the directory\n",
    "- Crop each image into 4 rectangles, one character per image\n",
    "- Match the name of the license plate to each cropped character\n",
    "- Create training data ourselves\n",
    "\"\"\"\n",
    "directory = '/home/fizzer/ros_ws/src/pink_chicken/reading_CNN/pictures/'\n",
    "def process_license_plate_files(directory):\n",
    "    X_data = []  # Will store all cropped images (input for CNN)\n",
    "    Y_data = []  # Will store all one-hot encoded labels\n",
    "\n",
    "    # Iterate over each file in the directory\n",
    "    for filename in os.listdir(directory):\n",
    "        if filename.endswith('.png'):  # Only process PNG files\n",
    "            # Get the path to the image\n",
    "            image_path = os.path.join(directory, filename)\n",
    "\n",
    "            # Extract the file name by splitting it at '_' and '.'\n",
    "            label = filename.split('_')[1].split('.')[0]  # \"EP68\"\n",
    "\n",
    "            # Read the image\n",
    "            plate_image = cv2.imread(image_path)\n",
    "            # grayscale_image = cv2.cvtColor(plate_image, cv2.COLOR_BGR2GRAY)\n",
    "            # _, binary_image = cv2.threshold(grayscale_image, 127, 255, cv2.THRESH_BINARY)\n",
    "            # inverted_image = cv2.bitwise_not(binary_image)\n",
    "            original_height, original_width = plate_image.shape[:2]\n",
    "\n",
    "\n",
    "            # Downscale the image by a factor of 2\n",
    "            downscaled_image = cv2.resize(plate_image,\n",
    "                                          (original_width // 4, original_height // 4),\n",
    "                                          interpolation=cv2.INTER_AREA)\n",
    "\n",
    "            # Upscale the image back to its original size\n",
    "            plate_image = cv2.resize(downscaled_image,\n",
    "                                        (original_width, original_height),\n",
    "                                        interpolation=cv2.INTER_LINEAR)\n",
    "\n",
    "            # Crop the license plate into subsections by calling previous function\n",
    "            cropped_images = crop_license_plate(plate_image)\n",
    "\n",
    "            # One-hot encode the label and associate with each cropped image\n",
    "            for i, char in enumerate(label):\n",
    "                one_hot_label = one_hot_encode(char)  # One-hot encode each character\n",
    "                X_data.append(cropped_images[i])      # Add cropped image to X_data\n",
    "                Y_data.append(one_hot_label)          # Add one-hot label to Y_data\n",
    "\n",
    "    # Convert lists to NumPy arrays for easier manipulation\n",
    "    X_data = np.array(X_data)\n",
    "    Y_data = np.array(Y_data)\n",
    "\n",
    "    return np.array(X_data), np.array(Y_data)"
   ]
  },
  {
   "cell_type": "markdown",
   "metadata": {
    "id": "QoXtHfGvJg9i"
   },
   "source": [
    "We call the process license plate files function and see if we are correctly producing and matching the character to the one-hot encoder. The shape of X and Y can tell us how large our data library is."
   ]
  },
  {
   "cell_type": "code",
   "execution_count": 13,
   "metadata": {
    "colab": {
     "base_uri": "https://localhost:8080/",
     "height": 975
    },
    "id": "HZ-0lKFIHSav",
    "outputId": "64eec925-6891-4552-fcfe-6bb7c089b4ff"
   },
   "outputs": [
    {
     "name": "stdout",
     "output_type": "stream",
     "text": [
      "X shape: (12, 150, 100, 3)\n",
      "Y shape: (12, 36)\n",
      "[0. 0. 0. 0. 0. 0. 0. 0. 0. 0. 0. 0. 0. 0. 0. 0. 0. 0. 0. 0. 0. 1. 0. 0.\n",
      " 0. 0. 0. 0. 0. 0. 0. 0. 0. 0. 0. 0.]\n",
      "[0. 0. 0. 0. 0. 0. 0. 0. 0. 0. 0. 0. 0. 0. 0. 0. 0. 0. 0. 0. 0. 0. 0. 0.\n",
      " 0. 0. 0. 0. 0. 0. 0. 1. 0. 0. 0. 0.]\n",
      "[0. 1. 0. 0. 0. 0. 0. 0. 0. 0. 0. 0. 0. 0. 0. 0. 0. 0. 0. 0. 0. 0. 0. 0.\n",
      " 0. 0. 0. 0. 0. 0. 0. 0. 0. 0. 0. 0.]\n",
      "[0. 0. 0. 0. 1. 0. 0. 0. 0. 0. 0. 0. 0. 0. 0. 0. 0. 0. 0. 0. 0. 0. 0. 0.\n",
      " 0. 0. 0. 0. 0. 0. 0. 0. 0. 0. 0. 0.]\n",
      "[0. 0. 0. 0. 0. 0. 0. 0. 0. 0. 0. 0. 0. 0. 0. 0. 0. 0. 1. 0. 0. 0. 0. 0.\n",
      " 0. 0. 0. 0. 0. 0. 0. 0. 0. 0. 0. 0.]\n"
     ]
    }
   ],
   "source": [
    "X_data, Y_data = process_license_plate_files('/home/fizzer/ros_ws/src/pink_chicken/reading_CNN/pictures')\n",
    "\n",
    "# Print the shapes of X and Y\n",
    "print(f\"X shape: {X_data.shape}\")  # Number of cropped images and their dimensions\n",
    "print(f\"Y shape: {Y_data.shape}\")  # Number of one-hot encoded labels and their size\n",
    "\n",
    "for i in range(5):  # Display the first 5 images to check if it is good\n",
    "    cv2.imshow('window', X_data[i])\n",
    "    cv2.waitKey(3)\n",
    "    print(Y_data[i])"
   ]
  },
  {
   "cell_type": "code",
   "execution_count": 16,
   "metadata": {
    "colab": {
     "base_uri": "https://localhost:8080/",
     "height": 1000
    },
    "id": "9FzFMw_sI1cm",
    "outputId": "4791a2e9-3976-41a7-eefc-ad4cf0b9908d"
   },
   "outputs": [
    {
     "name": "stdout",
     "output_type": "stream",
     "text": [
      "Model: \"sequential_2\"\n",
      "_________________________________________________________________\n",
      " Layer (type)                Output Shape              Param #   \n",
      "=================================================================\n",
      " conv2d_8 (Conv2D)           (None, 148, 98, 16)       448       \n",
      "                                                                 \n",
      " max_pooling2d_8 (MaxPoolin  (None, 74, 49, 16)        0         \n",
      " g2D)                                                            \n",
      "                                                                 \n",
      " conv2d_9 (Conv2D)           (None, 72, 47, 32)        4640      \n",
      "                                                                 \n",
      " max_pooling2d_9 (MaxPoolin  (None, 36, 23, 32)        0         \n",
      " g2D)                                                            \n",
      "                                                                 \n",
      " conv2d_10 (Conv2D)          (None, 34, 21, 64)        18496     \n",
      "                                                                 \n",
      " max_pooling2d_10 (MaxPooli  (None, 17, 10, 64)        0         \n",
      " ng2D)                                                           \n",
      "                                                                 \n",
      " conv2d_11 (Conv2D)          (None, 15, 8, 128)        73856     \n",
      "                                                                 \n",
      " max_pooling2d_11 (MaxPooli  (None, 7, 4, 128)         0         \n",
      " ng2D)                                                           \n",
      "                                                                 \n",
      " flatten_2 (Flatten)         (None, 3584)              0         \n",
      "                                                                 \n",
      " dropout_2 (Dropout)         (None, 3584)              0         \n",
      "                                                                 \n",
      " dense_4 (Dense)             (None, 512)               1835520   \n",
      "                                                                 \n",
      " dense_5 (Dense)             (None, 36)                18468     \n",
      "                                                                 \n",
      "=================================================================\n",
      "Total params: 1951428 (7.44 MB)\n",
      "Trainable params: 1951428 (7.44 MB)\n",
      "Non-trainable params: 0 (0.00 Byte)\n",
      "_________________________________________________________________\n"
     ]
    },
    {
     "name": "stderr",
     "output_type": "stream",
     "text": [
      "/home/fizzer/.local/lib/python3.8/site-packages/keras/src/initializers/initializers.py:120: UserWarning: The initializer GlorotUniform is unseeded and being called multiple times, which will return identical values each time (even if the initializer is unseeded). Please update your code to provide a seed to the initializer, or avoid using the same initializer instance more than once.\n",
      "  warnings.warn(\n"
     ]
    },
    {
     "name": "stdout",
     "output_type": "stream",
     "text": [
      "1/1 [==============================] - 2s 2s/step - loss: 38.6721 - acc: 0.0000e+00 - val_loss: 9.2082 - val_acc: 0.0000e+00\n"
     ]
    },
    {
     "data": {
      "image/png": "[encoded data removed]",
      "text/plain": [
       "<Figure size 640x480 with 1 Axes>"
      ]
     },
     "metadata": {},
     "output_type": "display_data"
    },
    {
     "data": {
      "image/png": "[encoded data removed]",
      "text/plain": [
       "<Figure size 640x480 with 1 Axes>"
      ]
     },
     "metadata": {},
     "output_type": "display_data"
    },
    {
     "name": "stdout",
     "output_type": "stream",
     "text": [
      "1/1 [==============================] - 0s 365ms/step\n"
     ]
    },
    {
     "data": {
      "image/png": "[encoded data removed]",
      "text/plain": [
       "<Figure size 1000x800 with 2 Axes>"
      ]
     },
     "metadata": {},
     "output_type": "display_data"
    }
   ],
   "source": [
    "from tensorflow.keras import models\n",
    "from tensorflow.keras import optimizers\n",
    "from tensorflow.keras.utils import plot_model\n",
    "from tensorflow.keras import layers\n",
    "\n",
    "# Source: https://stackoverflow.com/questions/63435679\n",
    "def reset_weights_tf2(model):\n",
    "\n",
    "  # This loop iterates through each layer\n",
    "  for ix, layer in enumerate(model.layers):\n",
    "      # Check that there is 'kernel_initializer', 'bias_initializer'\n",
    "      if (hasattr(model.layers[ix], 'kernel_initializer') and\n",
    "          hasattr(model.layers[ix], 'bias_initializer')):\n",
    "          # Finds weight & bias initializer\n",
    "          weight_initializer = model.layers[ix].kernel_initializer\n",
    "          bias_initializer = model.layers[ix].bias_initializer\n",
    "\n",
    "          # Finds the current weights and biases\n",
    "          old_weights, old_biases = model.layers[ix].get_weights()\n",
    "\n",
    "          # Reinitializes weight and bias\n",
    "          model.layers[ix].set_weights([\n",
    "              weight_initializer(shape=old_weights.shape),\n",
    "              bias_initializer(shape=len(old_biases))])\n",
    "\n",
    "\n",
    "conv_model = models.Sequential()\n",
    "conv_model.add(layers.Conv2D(16, (3, 3), activation='relu',\n",
    "                             input_shape=(150, 100, 3)))\n",
    "conv_model.add(layers.MaxPooling2D((2, 2)))\n",
    "\n",
    "conv_model.add(layers.Conv2D(32, (3, 3), activation='relu'))\n",
    "conv_model.add(layers.MaxPooling2D((2, 2)))\n",
    "\n",
    "conv_model.add(layers.Conv2D(64, (3, 3), activation='relu'))\n",
    "conv_model.add(layers.MaxPooling2D((2, 2)))\n",
    "\n",
    "conv_model.add(layers.Conv2D(128, (3, 3), activation='relu'))\n",
    "conv_model.add(layers.MaxPooling2D((2, 2)))\n",
    "\n",
    "conv_model.add(layers.Flatten())\n",
    "conv_model.add(layers.Dropout(0.5))\n",
    "conv_model.add(layers.Dense(512, activation='relu'))\n",
    "# conv_model.add(layers.Dropout(0.5))\n",
    "conv_model.add(layers.Dense(36, activation='softmax'))\n",
    "\n",
    "\n",
    "conv_model.summary()\n",
    "\n",
    "# Validation split: 10% of data will be used for validation\n",
    "VALIDATION_SPLIT = 0.1\n",
    "\n",
    "LEARNING_RATE = 1e-4\n",
    "conv_model.compile(loss='categorical_crossentropy',\n",
    "                   optimizer=optimizers.RMSprop(learning_rate=LEARNING_RATE),\n",
    "                   metrics=['acc'])\n",
    "\n",
    "reset_weights_tf2(conv_model)\n",
    "\n",
    "# Batch size: How many samples will be processed in one step\n",
    "# Samples: From your training data set\n",
    "# Step size: Samples / Batch size\n",
    "history_conv = conv_model.fit(np.array(X_data), np.array(Y_data),\n",
    "                              validation_split=VALIDATION_SPLIT,\n",
    "                              epochs=1,\n",
    "                              batch_size= 32)\n",
    "\n",
    "# Plot accuracy\n",
    "plt.plot(history_conv.history['acc'], label='Training Accuracy')\n",
    "plt.plot(history_conv.history['val_acc'], label='Validation Accuracy')\n",
    "plt.title('Training and Validation Accuracy')\n",
    "plt.xlabel('Iterations')\n",
    "plt.ylabel('Accuracy')\n",
    "plt.legend()\n",
    "plt.show()\n",
    "\n",
    "# Plot loss\n",
    "plt.plot(history_conv.history['loss'], label='Training Loss')\n",
    "plt.plot(history_conv.history['val_loss'], label='Validation Loss')\n",
    "plt.title('Training and Validation Loss')\n",
    "plt.xlabel('Iterations')\n",
    "plt.ylabel('Loss')\n",
    "plt.legend()\n",
    "plt.show()\n",
    "\n",
    "import seaborn as sns\n",
    "from sklearn.metrics import confusion_matrix\n",
    "\n",
    "# Generate predictions\n",
    "Y_pred = conv_model.predict(X_data)\n",
    "\n",
    "# Convert predictions and true labels to class indices\n",
    "Y_pred_labels = np.argmax(Y_pred, axis=1) # My predicted data\n",
    "Y_true_labels = np.argmax(Y_data, axis=1) # Actual data we are matching\n",
    "\n",
    "# Generate the confusion matrix\n",
    "cm = confusion_matrix(Y_true_labels, Y_pred_labels)\n",
    "\n",
    "# Plot the confusion matrix using seaborn\n",
    "plt.figure(figsize=(10, 8))\n",
    "sns.heatmap(cm, annot=True, fmt='d', cmap='Blues', xticklabels=characters, yticklabels=characters)\n",
    "plt.xlabel('Predicted Labels')\n",
    "plt.ylabel('True Labels')\n",
    "plt.title('Confusion Matrix')\n",
    "plt.show()"
   ]
  },
  {
   "cell_type": "code",
   "execution_count": 17,
   "metadata": {
    "colab": {
     "base_uri": "https://localhost:8080/"
    },
    "id": "ot5PDwqImiL4",
    "outputId": "1959a5a4-7c7e-4877-8333-c0cef9a46ad3"
   },
   "outputs": [
    {
     "name": "stderr",
     "output_type": "stream",
     "text": [
      "/home/fizzer/.local/lib/python3.8/site-packages/keras/src/engine/training.py:3000: UserWarning: You are saving your model as an HDF5 file via `model.save()`. This file format is considered legacy. We recommend using instead the native Keras format, e.g. `model.save('my_model.keras')`.\n",
      "  saving_api.save_model(\n"
     ]
    }
   ],
   "source": [
    "conv_model.save('trained_cnn_model.h5')"
   ]
  }
 ],
 "metadata": {
  "accelerator": "GPU",
  "colab": {
   "gpuType": "T4",
   "provenance": []
  },
  "kernelspec": {
   "display_name": "Python 3",
   "name": "python3"
  },
  "language_info": {
   "codemirror_mode": {
    "name": "ipython",
    "version": 3
   },
   "file_extension": ".py",
   "mimetype": "text/x-python",
   "name": "python",
   "nbconvert_exporter": "python",
   "pygments_lexer": "ipython3",
   "version": "3.8.10"
  }
 },
 "nbformat": 4,
 "nbformat_minor": 0
}
